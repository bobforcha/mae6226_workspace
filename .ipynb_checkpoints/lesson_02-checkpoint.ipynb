{
 "cells": [
  {
   "cell_type": "markdown",
   "metadata": {},
   "source": [
    "# Lesson 2: Source and Sink in  a Freestream\n",
    "\n",
    "Using superposition, we will add the solutions of a source, sink and uniform freestream\n",
    "\n",
    "## Code:"
   ]
  },
  {
   "cell_type": "code",
   "execution_count": 2,
   "metadata": {
    "collapsed": true
   },
   "outputs": [],
   "source": [
    "# imports\n",
    "import math\n",
    "import numpy as np\n",
    "import matplotlib.pyplot as plt\n",
    "%matplotlib inline"
   ]
  },
  {
   "cell_type": "code",
   "execution_count": 4,
   "metadata": {
    "collapsed": false
   },
   "outputs": [],
   "source": [
    "# create meshgrid\n",
    "N = 200\n",
    "x_start, x_end = -4.0, 4.0\n",
    "y_start, y_end = -2.0, 2.0\n",
    "x = np.linspace(x_start,x_end,N)\n",
    "y = np.linspace(y_start,y_end,N)\n",
    "X, Y = np.meshgrid(x,y)"
   ]
  },
  {
   "cell_type": "markdown",
   "metadata": {},
   "source": [
    "## Source in a uniform flow\n",
    "\n",
    "The streamlines of a freestream with speed $U_\\infty$ and angle of attack $\\alpha$ are given by:\n",
    "\n",
    "$$\\psi_\\text{freestream}\\left(x\\text{,} y\\right) = U_\\infty\\left(y\\cos{\\alpha} - x\\sin\\alpha\\right)$$"
   ]
  },
  {
   "cell_type": "code",
   "execution_count": null,
   "metadata": {
    "collapsed": true
   },
   "outputs": [],
   "source": []
  }
 ],
 "metadata": {
  "kernelspec": {
   "display_name": "Python [conda root]",
   "language": "python",
   "name": "conda-root-py"
  },
  "language_info": {
   "codemirror_mode": {
    "name": "ipython",
    "version": 3
   },
   "file_extension": ".py",
   "mimetype": "text/x-python",
   "name": "python",
   "nbconvert_exporter": "python",
   "pygments_lexer": "ipython3",
   "version": "3.5.2"
  }
 },
 "nbformat": 4,
 "nbformat_minor": 1
}
