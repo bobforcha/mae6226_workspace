{
 "cells": [
  {
   "cell_type": "markdown",
   "metadata": {},
   "source": [
    "# Lesson 6: Vortex Lift\n",
    "\n",
    "## Lift on a Cylinder\n",
    "\n",
    "Equations for flow over a doublet:\n",
    "\n",
    "$$\\psi\\left(x,y\\right) = -\\frac{\\kappa}{2\\pi}\\frac{y}{x^2 + y^2}$$\n",
    "\n",
    "$$u\\left(x,y\\right) = -\\frac{\\kappa}{2\\pi}\\frac{x^2 - y^2}{\\left(x^2 + y^2\\right)^2}$$\n",
    "\n",
    "$$v\\left(x,y\\right) = -\\frac{\\kappa}{2\\pi}\\frac{2xy}{\\left(x^2 + y^2\\right)^2}$$"
   ]
  },
  {
   "cell_type": "markdown",
   "metadata": {},
   "source": [
    "### Computing:"
   ]
  },
  {
   "cell_type": "code",
   "execution_count": 6,
   "metadata": {
    "collapsed": false
   },
   "outputs": [],
   "source": [
    "# imports and classes from resources.ipynb\n",
    "%run ./resources.ipynb"
   ]
  },
  {
   "cell_type": "code",
   "execution_count": 7,
   "metadata": {
    "collapsed": true
   },
   "outputs": [],
   "source": [
    "# create mesh grid\n",
    "N = 50\n",
    "x_start, x_end = -2.0, 2.0\n",
    "y_start, y_end = -1.0, 1.0\n",
    "x = np.linspace(x_start, x_end, N)\n",
    "y = np.linspace(y_start, y_end, N)\n",
    "X, Y = np.meshgrid(x, y)"
   ]
  },
  {
   "cell_type": "code",
   "execution_count": 8,
   "metadata": {
    "collapsed": false
   },
   "outputs": [],
   "source": [
    "# create doublet to represent cylinder\n",
    "kappa = 1.0\n",
    "x_dub, y_dub = 0.0, 0.0\n",
    "\n",
    "cylinder = Doublet(kappa, x_dub, y_dub)"
   ]
  },
  {
   "cell_type": "code",
   "execution_count": 9,
   "metadata": {
    "collapsed": true
   },
   "outputs": [],
   "source": [
    "# freestream velocity\n",
    "u_inf = 1.0"
   ]
  },
  {
   "cell_type": "code",
   "execution_count": 10,
   "metadata": {
    "collapsed": false
   },
   "outputs": [
    {
     "ename": "TypeError",
     "evalue": "'NoneType' object is not iterable",
     "output_type": "error",
     "traceback": [
      "\u001b[0;31m---------------------------------------------------------------------------\u001b[0m",
      "\u001b[0;31mTypeError\u001b[0m                                 Traceback (most recent call last)",
      "\u001b[0;32m<ipython-input-10-359e1e35cfb4>\u001b[0m in \u001b[0;36m<module>\u001b[0;34m()\u001b[0m\n\u001b[1;32m      1\u001b[0m \u001b[0;31m# calculate doublet velocity field and stream function\u001b[0m\u001b[0;34m\u001b[0m\u001b[0;34m\u001b[0m\u001b[0m\n\u001b[0;32m----> 2\u001b[0;31m \u001b[0mu_dub\u001b[0m\u001b[0;34m,\u001b[0m \u001b[0mv_dub\u001b[0m \u001b[0;34m=\u001b[0m \u001b[0mcylinder\u001b[0m\u001b[0;34m.\u001b[0m\u001b[0mvelocity\u001b[0m\u001b[0;34m(\u001b[0m\u001b[0mX\u001b[0m\u001b[0;34m,\u001b[0m \u001b[0mY\u001b[0m\u001b[0;34m)\u001b[0m\u001b[0;34m\u001b[0m\u001b[0m\n\u001b[0m\u001b[1;32m      3\u001b[0m \u001b[0mpsi_dub\u001b[0m \u001b[0;34m=\u001b[0m \u001b[0mcylinder\u001b[0m\u001b[0;34m.\u001b[0m\u001b[0mstream_function\u001b[0m\u001b[0;34m(\u001b[0m\u001b[0mX\u001b[0m\u001b[0;34m,\u001b[0m \u001b[0mY\u001b[0m\u001b[0;34m)\u001b[0m\u001b[0;34m\u001b[0m\u001b[0m\n\u001b[1;32m      4\u001b[0m \u001b[0;34m\u001b[0m\u001b[0m\n\u001b[1;32m      5\u001b[0m \u001b[0;31m# calculate freestream velocity field and stream function\u001b[0m\u001b[0;34m\u001b[0m\u001b[0;34m\u001b[0m\u001b[0m\n",
      "\u001b[0;31mTypeError\u001b[0m: 'NoneType' object is not iterable"
     ]
    }
   ],
   "source": [
    "# calculate doublet velocity field and stream function\n",
    "cylinder.velocity(X, Y)\n",
    "cylinder.stream_function(X, Y)\n",
    "\n",
    "# calculate freestream velocity field and stream function\n",
    "u_fs = u_inf*np.ones(np.shape(X), dtype=float)\n",
    "v_fs = np.zeros(np.shape(Y), dtype=float)\n",
    "psi_fs = u_inf*Y\n",
    "\n",
    "# superposition\n",
    "u = cylinder.u + u_fs\n",
    "v = cylinder.v + v_fs\n",
    "psi = p + psi_fs"
   ]
  },
  {
   "cell_type": "code",
   "execution_count": null,
   "metadata": {
    "collapsed": false
   },
   "outputs": [],
   "source": [
    "# plot the streamlines\n",
    "size = 10\n",
    "plt.figure(figsize=(size, (y_end - y_start)/(x_end - x_start)*size))\n",
    "plt.xlabel('x', fontsize=16)\n",
    "plt.ylabel('y', fontsize=16)\n",
    "plt.xlim(x_start, x_end)\n",
    "plt.ylim(y_start, y_end)\n",
    "plt.streamplot(X, Y, u, v, density=2, linewidth=1, arrowsize=1, arrowstyle='->')\n",
    "plt.scatter(x_dub, y_dub, color='#CD2305', s=80, marker='o')\n",
    "\n",
    "# calculate cylinder radius and add to the figure\n",
    "R = math.sqrt(kappa/(2*math.pi*u_inf))\n",
    "circle = plt.Circle((x_dub, y_dub), radius=R, color='#CD2305', alpha=0.5)\n",
    "plt.gca().add_patch(circle)\n",
    "\n",
    "# calculate the stagnation points and add to figure\n",
    "x_stag1, y_stag1 = +math.sqrt(kappa/(2*math.pi*u_inf)), 0\n",
    "x_stag2, y_stag2 = -math.sqrt(kappa/(2*math.pi*u_inf)), 0\n",
    "plt.scatter([x_stag1, x_stag2], [y_stag1, y_stag2], color='g', s=80, marker='o');"
   ]
  },
  {
   "cell_type": "markdown",
   "metadata": {},
   "source": [
    "### Adding a Vortex\n",
    "\n",
    "Vortex flow equations:\n",
    "\n",
    "$$\\psi\\left(x,y\\right) = \\frac{\\Gamma}{4\\pi}\\ln{\\left(x^2 + y^2\\right)}$$\n",
    "\n",
    "$$u\\left(x,y\\right) = \\frac{\\Gamma}{2\\pi}\\frac{y}{x^2 + y^2}\\text{,}\\quad v\\left(x,y\\right) = -\\frac{\\Gamma}{2\\pi}\\frac{x}{x^2 + y^2}$$"
   ]
  },
  {
   "cell_type": "code",
   "execution_count": null,
   "metadata": {
    "collapsed": true
   },
   "outputs": [],
   "source": [
    "# create vortex\n",
    "gamma = 4.0\n",
    "x_vort, y_vort = x_dub, y_dub\n",
    "vort = Vortex(gamma, x_vort, y_vort)"
   ]
  },
  {
   "cell_type": "code",
   "execution_count": null,
   "metadata": {
    "collapsed": true
   },
   "outputs": [],
   "source": [
    "# calculate velocity field and stream function\n",
    "u_vort, v_vort = vort.velocity(X, Y)\n",
    "psi_vort = vort.stream_function(X, Y)\n",
    "\n",
    "# superposition\n",
    "u += u_vort\n",
    "v += v_vort\n",
    "psi += psi_vort"
   ]
  },
  {
   "cell_type": "code",
   "execution_count": null,
   "metadata": {
    "collapsed": false
   },
   "outputs": [],
   "source": [
    "# calculate the stagnation points\n",
    "x_stag1, y_stag1 = +math.sqrt(R**2-(gamma/(4*math.pi*u_inf))**2), -gamma/(4*math.pi*u_inf)\n",
    "x_stag2, y_stag2 = -math.sqrt(R**2-(gamma/(4*math.pi*u_inf))**2), -gamma/(4*math.pi*u_inf)\n",
    "\n",
    "# plot the streamlines\n",
    "size = 10\n",
    "plt.figure(figsize=(size, (y_end - y_start)/(x_end - x_start)*size))\n",
    "plt.xlabel('x', fontsize=16)\n",
    "plt.ylabel('y', fontsize=16)\n",
    "plt.xlim(x_start, x_end)\n",
    "plt.ylim(y_start, y_end)\n",
    "plt.streamplot(X, Y, u, v, density=2, linewidth=1, arrowsize=1, arrowstyle='->')\n",
    "plt.scatter(x_dub, y_dub, color='#CD2305', s=80, marker='o')\n",
    "circle = plt.Circle((x_dub, y_dub), radius=R, color='#CD2305', alpha=0.5)\n",
    "plt.gca().add_patch(circle)\n",
    "plt.scatter([x_stag1, x_stag2], [y_stag1, y_stag2], color='g', s=80, marker='o');"
   ]
  },
  {
   "cell_type": "markdown",
   "metadata": {},
   "source": [
    "### Challenge Task\n",
    "\n",
    "radius of a doublet:\n",
    "\n",
    "$$R = \\sqrt{\\frac{\\kappa}{2\\pi U_{\\infty}}}$$\n",
    "\n",
    "Find where the stagnation points are on the surface of the cylinder:\n",
    "\n",
    "$$U_{\\text{stag}} = {u_r}^2 + {u_\\theta}^2 = 0$$\n",
    "\n",
    "$$u_r\\left(R,\\theta_c\\right) = U_\\infty\\cos{\\theta_c}\\left(1 - \\frac{R^2}{R^2}\\right) = 0$$\n",
    "\n",
    "$$\\Rightarrow u_\\theta\\left(R,\\theta_c\\right) = 0$$\n",
    "\n",
    "$$\\Rightarrow 2U_\\infty\\sin{\\theta_c} = -\\frac{\\Gamma}{2\\pi R}$$\n",
    "\n",
    "$$\\Rightarrow \\sin{\\theta_c} = -\\frac{\\Gamma}{4\\pi U_\\infty R}$$\n",
    "\n",
    "$$y_{\\text{stag}} = R\\sin{\\theta_c} = -\\frac{\\Gamma}{4\\pi U_\\infty}$$\n",
    "\n",
    "$$x_{\\text{stag}} = R\\cos{\\theta_c} = \\sqrt{R^2\\left(1 - \\frac{\\Gamma^2}{16\\pi^2 {U_\\infty}^2 R^2}\\right)} = \\sqrt{R^2 - \\left(\\frac{\\Gamma}{4\\pi U_\\infty}\\right)^2}$$\n",
    "\n",
    "If $\\frac{\\Gamma}{4\\pi U_\\infty R} > 1$, a domain error occurs and the stagnation points cannot be calculated."
   ]
  },
  {
   "cell_type": "markdown",
   "metadata": {
    "collapsed": true
   },
   "source": [
    "## Pressure Coefficient"
   ]
  },
  {
   "cell_type": "code",
   "execution_count": null,
   "metadata": {
    "collapsed": false
   },
   "outputs": [],
   "source": [
    "# calculate the surface tangential velocity\n",
    "theta = np.linspace(0, 2*math.pi, 100)\n",
    "u_theta = -2*u_inf*np.sin(theta) - gamma/(2*math.pi*R)\n",
    "\n",
    "# compute the surface pressure cofficient\n",
    "cp = 1.0 - (u_theta/u_inf)**2\n",
    "\n",
    "# with no vortex\n",
    "u_theta_no_vort = -2*u_inf*np.sin(theta)\n",
    "cp_no_vort = 1.0 - (u_theta_no_vort/u_inf)**2\n",
    "\n",
    "# plot\n",
    "size = 7\n",
    "plt.figure(figsize=(size,size))\n",
    "plt.grid(True)\n",
    "plt.xlabel(r'$\\theta$', fontsize=18)\n",
    "plt.ylabel('$C_p$', fontsize=18)\n",
    "plt.xlim(theta.min(), theta.max())\n",
    "plt.plot(theta, cp, label='with vortex', color='#CD2305', linewidth=2, linestyle='-')\n",
    "plt.plot(theta, cp_no_vort, label='without vortex', color='b', linewidth=2, linestyle='-')\n",
    "plt.legend(loc='best', prop={'size':16});"
   ]
  },
  {
   "cell_type": "markdown",
   "metadata": {},
   "source": [
    "## Lift and Drag"
   ]
  },
  {
   "cell_type": "markdown",
   "metadata": {},
   "source": [
    "$$D = -\\int_0^{2\\pi} p \\ \\cos{\\theta} \\ R \\ d\\theta$$\n",
    "\n",
    "$$L = -\\int_0^{2\\pi} p \\ \\sin{\\theta \\ R \\ d\\theta}$$"
   ]
  },
  {
   "cell_type": "markdown",
   "metadata": {},
   "source": [
    "### Challenge Task\n",
    "\n",
    "Using Bernoulli's equation, replace $p$ in the equations above to obtain the lift and drag."
   ]
  },
  {
   "cell_type": "markdown",
   "metadata": {},
   "source": [
    "## The Magnus Effect\n",
    "\n",
    "The force experienced by a rotating cylinder (or sphere, or any object) is known as the *Magnus effect*."
   ]
  },
  {
   "cell_type": "code",
   "execution_count": null,
   "metadata": {
    "collapsed": true
   },
   "outputs": [],
   "source": []
  }
 ],
 "metadata": {
  "kernelspec": {
   "display_name": "Python 3",
   "language": "python",
   "name": "python3"
  },
  "language_info": {
   "codemirror_mode": {
    "name": "ipython",
    "version": 3
   },
   "file_extension": ".py",
   "mimetype": "text/x-python",
   "name": "python",
   "nbconvert_exporter": "python",
   "pygments_lexer": "ipython3",
   "version": "3.6.0"
  }
 },
 "nbformat": 4,
 "nbformat_minor": 2
}
