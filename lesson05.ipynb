{
 "cells": [
  {
   "cell_type": "markdown",
   "metadata": {},
   "source": [
    "# Lesson 5: Infinite Row of Vortices\n",
    "\n",
    "## Superposition of many vortices:"
   ]
  },
  {
   "cell_type": "code",
   "execution_count": 1,
   "metadata": {
    "collapsed": true
   },
   "outputs": [],
   "source": [
    "# imports\n",
    "import math\n",
    "import numpy as np\n",
    "import matplotlib.pyplot as plt\n",
    "%matplotlib inline"
   ]
  },
  {
   "cell_type": "code",
   "execution_count": 2,
   "metadata": {
    "collapsed": true
   },
   "outputs": [],
   "source": [
    "# vortex class definition\n",
    "class Vortex:\n",
    "    \"\"\"\n",
    "    class to represent a vortex for numerical aerodynamic analysis\n",
    "    \n",
    "    \n",
    "    Attributes\n",
    "    ----------\n",
    "    strength: float\n",
    "        strength of the vortex\n",
    "    x: float\n",
    "        x-coordinate of the vortex\n",
    "    y: float\n",
    "        y-coordinate of the vortex\n",
    "        \n",
    "    \n",
    "    Methods\n",
    "    -------\n",
    "    velocity(X, Y)\n",
    "    stream_function(X, Y)\n",
    "    \n",
    "    \n",
    "    Example\n",
    "    -------\n",
    "    v = Vortex(5.0, 0.0, 0.0)\n",
    "        -- creates a vortex with strength 5 and location (0,0)\n",
    "    \"\"\"\n",
    "    \n",
    "    def __init__(self, strength, x, y):\n",
    "        \"\"\"\n",
    "        typical object instance creation\n",
    "        \n",
    "        \n",
    "        Parameters\n",
    "        ----------\n",
    "        strength: float\n",
    "            strength of the vortex\n",
    "        x: float\n",
    "            x-coordinate of the vortex\n",
    "        y: float\n",
    "            y-coordinate of the vortex\n",
    "            \n",
    "        Returns\n",
    "        -------\n",
    "        none\n",
    "        \"\"\"\n",
    "        \n",
    "        self.strength = strength\n",
    "        self.x = x\n",
    "        self.y = y\n",
    "        \n",
    "    def velocity(self, X, Y):\n",
    "        \"\"\"\n",
    "        returns 2D numpy arrays of x and y velocity components\n",
    "        \n",
    "        Parameters\n",
    "        ----------\n",
    "        X: 2D numpy array of floats, as created by numpy.meshgrid()\n",
    "            x-coordinates of mesh grid\n",
    "        Y: 2D numpy array of floats, as created by numpy.meshgrid()\n",
    "            y-coordinates of mesh grid\n",
    "        \n",
    "        Returns\n",
    "        -------\n",
    "        u, v: 2D numpy arrays containing x and y velocity components, respectively\n",
    "        \"\"\"\n",
    "        \n",
    "        u = +self.strength/(2*math.pi)*(Y - self.y)/((X - self.x)**2 + (Y - self.y)**2)\n",
    "        v = -self.strength/(2*math.pi)*(X - self.x)/((X - self.x)**2 + (Y - self.y)**2)\n",
    "        \n",
    "        return u, v\n",
    "    \n",
    "    def stream_function(self, X, Y):\n",
    "        \"\"\"\n",
    "        returns 2D numpy array of stream function values\n",
    "        \n",
    "        Parameters\n",
    "        ----------\n",
    "        X: 2D numpy array of floats, as created by numpy.meshgrid()\n",
    "            x-coordinates of mesh grid\n",
    "        Y: 2D numpy array of floats, as created by numpy.meshgrid()\n",
    "            y-coordinates of mesh grid\n",
    "        \n",
    "        Returns\n",
    "        -------\n",
    "        psi: 2D numpy array of floats\n",
    "            stream function values\n",
    "        \"\"\"\n",
    "        \n",
    "        psi = self.strength/(4*math.pi)*np.log((X - self.x)**2 + (Y - self.y)**2)\n",
    "        \n",
    "        return psi"
   ]
  },
  {
   "cell_type": "code",
   "execution_count": null,
   "metadata": {
    "collapsed": true
   },
   "outputs": [],
   "source": []
  }
 ],
 "metadata": {
  "kernelspec": {
   "display_name": "Python 3",
   "language": "python",
   "name": "python3"
  },
  "language_info": {
   "codemirror_mode": {
    "name": "ipython",
    "version": 3
   },
   "file_extension": ".py",
   "mimetype": "text/x-python",
   "name": "python",
   "nbconvert_exporter": "python",
   "pygments_lexer": "ipython3",
   "version": "3.6.0"
  }
 },
 "nbformat": 4,
 "nbformat_minor": 2
}
