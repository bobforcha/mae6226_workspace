{
 "cells": [
  {
   "cell_type": "markdown",
   "metadata": {},
   "source": [
    "# Lesson 8 - Source Sheet"
   ]
  },
  {
   "cell_type": "markdown",
   "metadata": {},
   "source": [
    "A source sheet is an infinite row of sources along one line"
   ]
  },
  {
   "cell_type": "code",
   "execution_count": 1,
   "metadata": {
    "collapsed": true
   },
   "outputs": [],
   "source": [
    "# import resources notebook\n",
    "%run resources.ipynb"
   ]
  },
  {
   "cell_type": "code",
   "execution_count": 2,
   "metadata": {
    "collapsed": true
   },
   "outputs": [],
   "source": [
    "# create mesh grid\n",
    "N = 100\n",
    "x_start, x_end = -1.0, 1.0\n",
    "y_start, y_end = -1.5, 1.5\n",
    "x, y = np.linspace(x_start, x_end), np.linspace(y_start, y_end)\n",
    "X, Y = np.meshgrid(x, y)"
   ]
  },
  {
   "cell_type": "code",
   "execution_count": 3,
   "metadata": {
    "collapsed": true
   },
   "outputs": [],
   "source": [
    "# create freestream\n",
    "u_inf = 1.0\n",
    "alpha = 0.0\n",
    "\n",
    "fs = Freestream(u_inf, alpha)\n",
    "fs.velocity(X, Y)\n",
    "fs.stream_function(X, Y)"
   ]
  },
  {
   "cell_type": "markdown",
   "metadata": {},
   "source": [
    "## Finite number of sources along a line"
   ]
  },
  {
   "cell_type": "code",
   "execution_count": null,
   "metadata": {
    "collapsed": true
   },
   "outputs": [],
   "source": [
    "N_sources = 11\n",
    "strength = 5\n",
    "strength_source = strength/N_sources\n",
    "x_source = np.zeros(N_sources, dtype=float)\n",
    "y_source = np.linspace(-1.0, 1.0, N_sources)\n",
    "\n",
    "# create a source line\n",
    "sources = np.empty(N_sources, dtype=object)"
   ]
  }
 ],
 "metadata": {
  "anaconda-cloud": {},
  "kernelspec": {
   "display_name": "Python [conda root]",
   "language": "python",
   "name": "conda-root-py"
  },
  "language_info": {
   "codemirror_mode": {
    "name": "ipython",
    "version": 3
   },
   "file_extension": ".py",
   "mimetype": "text/x-python",
   "name": "python",
   "nbconvert_exporter": "python",
   "pygments_lexer": "ipython3",
   "version": "3.5.2"
  }
 },
 "nbformat": 4,
 "nbformat_minor": 1
}
